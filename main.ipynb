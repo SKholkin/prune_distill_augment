{
 "cells": [
  {
   "cell_type": "code",
   "execution_count": 1,
   "id": "790b2970",
   "metadata": {
    "cellId": "f6vex5h0blwicx48hqtynp"
   },
   "outputs": [
    {
     "data": {
      "text/plain": [
       "CompletedProcess(args=['ls', '-l'], returncode=0)"
      ]
     },
     "execution_count": 1,
     "metadata": {},
     "output_type": "execute_result"
    }
   ],
   "source": [
    "import subprocess\n",
    "subprocess.run([\"python\", \"-m\", \"1 + 1\"])"
   ]
  },
  {
   "cell_type": "code",
   "execution_count": 3,
   "id": "23340655",
   "metadata": {
    "cellId": "y505omwhmvj8xc54bp2j1c"
   },
   "outputs": [
    {
     "name": "stdout",
     "output_type": "stream",
     "text": [
      "LICENSE      data\t       main.ipynb\t train_kd.py\t       utils\n",
      "README.md    data_loader.py    model\t\t train_nasty.py\n",
      "__pycache__  experiments       requirements.txt  train_scratch.py\n",
      "core\t     main-Copy1.ipynb  tmp.py\t\t transfer_learning.py\n"
     ]
    }
   ],
   "source": [
    "!ls"
   ]
  },
  {
   "cell_type": "code",
   "execution_count": 22,
   "id": "d48f7244",
   "metadata": {
    "cellId": "5z7maokkuq4g3pmtjjv5kw"
   },
   "outputs": [
    {
     "name": "stderr",
     "output_type": "stream",
     "text": [
      "model_name:efnetb2\n",
      "img_scale:224\n",
      "learning_rate:0.01\n",
      "schedule:[5, 10]\n",
      "gamma:0.2\n",
      "batch_size:128\n",
      "num_epochs:15\n",
      "num_workers:4\n",
      "augmentation:1\n",
      "cuda:True\n",
      "dataset:cifar100\n"
     ]
    },
    {
     "name": "stdout",
     "output_type": "stream",
     "text": [
      "Files already downloaded and verified\n",
      "Files already downloaded and verified\n",
      "Files already downloaded and verified\n",
      "Files already downloaded and verified\n"
     ]
    },
    {
     "name": "stderr",
     "output_type": "stream",
     "text": [
      "Number of class: 100\n",
      "Create Model --- efnetb2\n",
      "Downloading: \"https://download.pytorch.org/models/efficientnet_b2_rwightman-bcdf34b7.pth\" to /tmp/xdg_cache/torch/hub/checkpoints/efficientnet_b2_rwightman-bcdf34b7.pth\n"
     ]
    },
    {
     "data": {
      "application/vnd.jupyter.widget-view+json": {
       "model_id": "d32f1470937a4c0d8726cf6bc51f9bfd",
       "version_major": 2,
       "version_minor": 0
      },
      "text/plain": [
       "HBox(children=(HTML(value=''), FloatProgress(value=0.0, max=36882185.0), HTML(value='')))"
      ]
     },
     "metadata": {},
     "output_type": "display_data"
    },
    {
     "name": "stdout",
     "output_type": "stream",
     "text": [
      "\n"
     ]
    },
    {
     "name": "stderr",
     "output_type": "stream",
     "text": [
      "- Train from scratch \n",
      "Optimizer: SGD\n",
      "Epoch 1/15\n",
      "Learning Rate 0.01\n",
      "100%|██████████| 391/391 [00:49<00:00,  7.96it/s, loss=2.160]\n",
      "- Train loss : 2.160\n",
      "- Eval metrics : acc: 71.924 ; loss: 0.950\n",
      "- New best model \n",
      "- So far best epoch: 1, best acc: 71.924\n",
      "Epoch 2/15\n",
      "Learning Rate 0.01\n",
      "100%|██████████| 391/391 [00:48<00:00,  7.98it/s, loss=0.929]\n",
      "- Train loss : 0.929\n",
      "- Eval metrics : acc: 77.008 ; loss: 0.767\n",
      "- New best model \n",
      "- So far best epoch: 2, best acc: 77.008\n",
      "Epoch 3/15\n",
      "Learning Rate 0.01\n",
      "100%|██████████| 391/391 [00:48<00:00,  7.99it/s, loss=0.730]\n",
      "- Train loss : 0.730\n",
      "- Eval metrics : acc: 79.569 ; loss: 0.678\n",
      "- New best model \n",
      "- So far best epoch: 3, best acc: 79.569\n",
      "Epoch 4/15\n",
      "Learning Rate 0.01\n",
      "100%|██████████| 391/391 [00:48<00:00,  7.99it/s, loss=0.607]\n",
      "- Train loss : 0.607\n",
      "- Eval metrics : acc: 80.320 ; loss: 0.640\n",
      "- New best model \n",
      "- So far best epoch: 4, best acc: 80.320\n",
      "Epoch 5/15\n",
      "Learning Rate 0.01\n",
      "100%|██████████| 391/391 [00:48<00:00,  7.99it/s, loss=0.520]\n",
      "- Train loss : 0.520\n",
      "- Eval metrics : acc: 80.864 ; loss: 0.631\n",
      "- New best model \n",
      "- So far best epoch: 5, best acc: 80.864\n",
      "Epoch 6/15\n",
      "Learning Rate 0.002\n",
      "100%|██████████| 391/391 [00:48<00:00,  7.99it/s, loss=0.421]\n",
      "- Train loss : 0.421\n",
      "- Eval metrics : acc: 81.705 ; loss: 0.599\n",
      "- New best model \n",
      "- So far best epoch: 6, best acc: 81.705\n",
      "Epoch 7/15\n",
      "Learning Rate 0.002\n",
      "100%|██████████| 391/391 [00:48<00:00,  7.98it/s, loss=0.393]\n",
      "- Train loss : 0.393\n",
      "- Eval metrics : acc: 81.942 ; loss: 0.595\n",
      "- New best model \n",
      "- So far best epoch: 7, best acc: 81.942\n",
      "Epoch 8/15\n",
      "Learning Rate 0.002\n",
      "100%|██████████| 391/391 [00:48<00:00,  7.98it/s, loss=0.371]\n",
      "- Train loss : 0.371\n",
      "- Eval metrics : acc: 82.209 ; loss: 0.588\n",
      "- New best model \n",
      "- So far best epoch: 8, best acc: 82.209\n",
      "Epoch 9/15\n",
      "Learning Rate 0.002\n",
      "100%|██████████| 391/391 [00:48<00:00,  7.98it/s, loss=0.351]\n",
      "- Train loss : 0.351\n",
      "- Eval metrics : acc: 82.694 ; loss: 0.583\n",
      "- New best model \n",
      "- So far best epoch: 9, best acc: 82.694\n",
      "Epoch 10/15\n",
      "Learning Rate 0.002\n",
      "100%|██████████| 391/391 [00:48<00:00,  7.98it/s, loss=0.336]\n",
      "- Train loss : 0.336\n",
      "- Eval metrics : acc: 82.694 ; loss: 0.580\n",
      "- New best model \n",
      "- So far best epoch: 10, best acc: 82.694\n",
      "Epoch 11/15\n",
      "Learning Rate 0.0004\n",
      "100%|██████████| 391/391 [00:48<00:00,  7.99it/s, loss=0.321]\n",
      "- Train loss : 0.321\n",
      "- Eval metrics : acc: 82.585 ; loss: 0.583\n",
      "- So far best epoch: 10, best acc: 82.694\n",
      "Epoch 12/15\n",
      "Learning Rate 0.0004\n",
      "100%|██████████| 391/391 [00:48<00:00,  7.98it/s, loss=0.317]\n",
      "- Train loss : 0.317\n",
      "- Eval metrics : acc: 82.803 ; loss: 0.579\n",
      "- New best model \n",
      "- So far best epoch: 12, best acc: 82.803\n",
      "Epoch 13/15\n",
      "Learning Rate 0.0004\n",
      "100%|██████████| 391/391 [00:48<00:00,  7.98it/s, loss=0.311]\n",
      "- Train loss : 0.311\n",
      "- Eval metrics : acc: 82.743 ; loss: 0.579\n",
      "- So far best epoch: 12, best acc: 82.803\n",
      "Epoch 14/15\n",
      "Learning Rate 0.0004\n",
      "100%|██████████| 391/391 [00:48<00:00,  7.98it/s, loss=0.310]\n",
      "- Train loss : 0.310\n",
      "- Eval metrics : acc: 82.723 ; loss: 0.578\n",
      "- So far best epoch: 12, best acc: 82.803\n",
      "Epoch 15/15\n",
      "Learning Rate 0.0004\n",
      "100%|██████████| 391/391 [00:48<00:00,  7.98it/s, loss=0.303]\n",
      "- Train loss : 0.303\n",
      "- Eval metrics : acc: 82.674 ; loss: 0.581\n",
      "- So far best epoch: 12, best acc: 82.803\n"
     ]
    }
   ],
   "source": [
    "#!g2.mig\n",
    "%run transfer_learning.py --save_path experiments/CIFAR100/transfer_learning/efnetb2"
   ]
  },
  {
   "cell_type": "code",
   "execution_count": 9,
   "id": "ee9d8542",
   "metadata": {
    "cellId": "g267kl3slgwoozlbtmve0b"
   },
   "outputs": [
    {
     "data": {
      "text/plain": [
       "'0.11.0+cu111'"
      ]
     },
     "execution_count": 9,
     "metadata": {},
     "output_type": "execute_result"
    }
   ],
   "source": [
    "import torchvision\n",
    "torchvision.__version__"
   ]
  },
  {
   "cell_type": "code",
   "execution_count": 5,
   "id": "f7ab20dc",
   "metadata": {
    "cellId": "yfn229thg7nkg00jewbsq"
   },
   "outputs": [],
   "source": [
    "import torch"
   ]
  },
  {
   "cell_type": "code",
   "execution_count": 7,
   "id": "cc1d48cf",
   "metadata": {
    "cellId": "2prhqhwpdvehppurxfcmch"
   },
   "outputs": [
    {
     "name": "stdout",
     "output_type": "stream",
     "text": [
      "Defaulting to user installation because normal site-packages is not writeable\n",
      "\u001b[33mWARNING: Ignoring invalid distribution -orch (/home/jupyter/.local/lib/python3.8/site-packages)\u001b[0m\n",
      "Requirement already satisfied: torchvision in /home/jupyter/.local/lib/python3.8/site-packages (0.12.0)\n",
      "Requirement already satisfied: numpy in /kernel/fallback/lib/python3.8/site-packages (from torchvision) (1.19.4)\n",
      "Requirement already satisfied: typing-extensions in /usr/local/lib/python3.8/dist-packages (from torchvision) (3.7.4.3)\n",
      "Requirement already satisfied: requests in /kernel/lib/python3.8/site-packages (from torchvision) (2.25.1)\n",
      "Requirement already satisfied: pillow!=8.3.*,>=5.3.0 in /kernel/lib/python3.8/site-packages (from torchvision) (9.1.0)\n",
      "Collecting torch==1.11.0\n",
      "  Downloading torch-1.11.0-cp38-cp38-manylinux1_x86_64.whl (750.6 MB)\n",
      "     |████████████████████████████████| 750.6 MB 6.0 kB/s              �█▉| 747.8 MB 142.5 MB/s eta 0:00:01\n",
      "^C\n",
      "\u001b[31mERROR: Operation cancelled by user\u001b[0m\n",
      "\u001b[33mWARNING: Ignoring invalid distribution -orch (/home/jupyter/.local/lib/python3.8/site-packages)\u001b[0m\n",
      "\u001b[33mWARNING: Ignoring invalid distribution -orch (/home/jupyter/.local/lib/python3.8/site-packages)\u001b[0m\n",
      "\u001b[33mWARNING: You are using pip version 21.3.1; however, version 22.0.4 is available.\n",
      "You should consider upgrading via the '/usr/local/bin/python3 -m pip install --upgrade pip' command.\u001b[0m\n"
     ]
    }
   ],
   "source": [
    "%pip install torchvision"
   ]
  },
  {
   "cell_type": "code",
   "execution_count": 8,
   "id": "1152e9c7",
   "metadata": {
    "cellId": "vzyxscki1z1uh3n7lvvcw"
   },
   "outputs": [
    {
     "name": "stdout",
     "output_type": "stream",
     "text": [
      "Defaulting to user installation because normal site-packages is not writeable\n",
      "\u001b[33mWARNING: Ignoring invalid distribution -orch (/home/jupyter/.local/lib/python3.8/site-packages)\u001b[0m\n",
      "Looking in links: https://download.pytorch.org/whl/torch_stable.html\n",
      "Collecting torchvision==0.11.0+cu111\n",
      "  Downloading https://download.pytorch.org/whl/cu111/torchvision-0.11.0%2Bcu111-cp38-cp38-linux_x86_64.whl (21.9 MB)\n",
      "     |████████████████████████████████| 21.9 MB 3.6 MB/s            \n",
      "\u001b[?25hRequirement already satisfied: pillow!=8.3.0,>=5.3.0 in /kernel/lib/python3.8/site-packages (from torchvision==0.11.0+cu111) (9.1.0)\n",
      "Requirement already satisfied: numpy in /kernel/fallback/lib/python3.8/site-packages (from torchvision==0.11.0+cu111) (1.19.4)\n",
      "Requirement already satisfied: torch==1.10.0+cu111 in /home/jupyter/.local/lib/python3.8/site-packages (from torchvision==0.11.0+cu111) (1.10.0+cu111)\n",
      "Requirement already satisfied: typing-extensions in /usr/local/lib/python3.8/dist-packages (from torch==1.10.0+cu111->torchvision==0.11.0+cu111) (3.7.4.3)\n",
      "\u001b[33mWARNING: Ignoring invalid distribution -orch (/home/jupyter/.local/lib/python3.8/site-packages)\u001b[0m\n",
      "Installing collected packages: torchvision\n",
      "  Attempting uninstall: torchvision\n",
      "\u001b[33m    WARNING: Ignoring invalid distribution -orch (/home/jupyter/.local/lib/python3.8/site-packages)\u001b[0m\n",
      "    Found existing installation: torchvision 0.12.0\n",
      "    Uninstalling torchvision-0.12.0:\n",
      "      Successfully uninstalled torchvision-0.12.0\n",
      "\u001b[33mWARNING: Ignoring invalid distribution -orch (/home/jupyter/.local/lib/python3.8/site-packages)\u001b[0m\n",
      "Successfully installed torchvision-0.11.0+cu111\n",
      "\u001b[33mWARNING: Ignoring invalid distribution -orch (/home/jupyter/.local/lib/python3.8/site-packages)\u001b[0m\n",
      "\u001b[33mWARNING: Ignoring invalid distribution -orch (/home/jupyter/.local/lib/python3.8/site-packages)\u001b[0m\n",
      "\u001b[33mWARNING: You are using pip version 21.3.1; however, version 22.0.4 is available.\n",
      "You should consider upgrading via the '/usr/local/bin/python3 -m pip install --upgrade pip' command.\u001b[0m\n"
     ]
    }
   ],
   "source": [
    "%pip install torchvision==0.11.0+cu111 -f https://download.pytorch.org/whl/torch_stable.html"
   ]
  },
  {
   "cell_type": "code",
   "execution_count": 29,
   "id": "15b8e4f3",
   "metadata": {
    "cellId": "z6h01uxj26o7ui9b6goxgl"
   },
   "outputs": [
    {
     "name": "stdout",
     "output_type": "stream",
     "text": [
      "Process is killed.\n"
     ]
    }
   ],
   "source": [
    "%%python3 -m pip install torchvision==0.11.0+cu111 -f https://download.pytorch.org/whl/torch_stable.html"
   ]
  },
  {
   "cell_type": "code",
   "execution_count": 25,
   "id": "c18e85a9",
   "metadata": {
    "cellId": "lybrs777mblvlz8drd3j2"
   },
   "outputs": [
    {
     "name": "stdout",
     "output_type": "stream",
     "text": [
      "Defaulting to user installation because normal site-packages is not writeable\n",
      "Requirement already satisfied: torchvision in /home/jupyter/.local/lib/python3.8/site-packages (0.12.0)\n",
      "Requirement already satisfied: requests in /kernel/lib/python3.8/site-packages (from torchvision) (2.25.1)\n",
      "Requirement already satisfied: torch==1.11.0 in /home/jupyter/.local/lib/python3.8/site-packages (from torchvision) (1.11.0)\n",
      "Requirement already satisfied: numpy in /kernel/fallback/lib/python3.8/site-packages (from torchvision) (1.19.4)\n",
      "Requirement already satisfied: pillow!=8.3.*,>=5.3.0 in /kernel/lib/python3.8/site-packages (from torchvision) (9.1.0)\n",
      "Requirement already satisfied: typing-extensions in /usr/local/lib/python3.8/dist-packages (from torchvision) (3.7.4.3)\n",
      "Requirement already satisfied: chardet<5,>=3.0.2 in /kernel/lib/python3.8/site-packages (from requests->torchvision) (4.0.0)\n",
      "Requirement already satisfied: idna<3,>=2.5 in /kernel/lib/python3.8/site-packages (from requests->torchvision) (2.10)\n",
      "Requirement already satisfied: certifi>=2017.4.17 in /kernel/lib/python3.8/site-packages (from requests->torchvision) (2021.10.8)\n",
      "Requirement already satisfied: urllib3<1.27,>=1.21.1 in /kernel/lib/python3.8/site-packages (from requests->torchvision) (1.26.9)\n",
      "\u001b[33mWARNING: You are using pip version 21.3.1; however, version 22.0.4 is available.\n",
      "You should consider upgrading via the '/usr/local/bin/python3 -m pip install --upgrade pip' command.\u001b[0m\n"
     ]
    }
   ],
   "source": [
    "%pip install torchvision -U"
   ]
  },
  {
   "cell_type": "code",
   "execution_count": null,
   "id": "8bc5f891",
   "metadata": {
    "cellId": "claawfeogdrj70qoxc86"
   },
   "outputs": [],
   "source": []
  }
 ],
 "metadata": {
  "kernelspec": {
   "display_name": "Yandex DataSphere Kernel",
   "language": "python",
   "name": "python3"
  },
  "language_info": {
   "codemirror_mode": {
    "name": "ipython",
    "version": 3
   },
   "file_extension": ".py",
   "mimetype": "text/x-python",
   "name": "python",
   "nbconvert_exporter": "python",
   "pygments_lexer": "ipython3",
   "version": "3.7.7"
  },
  "notebookId": "fd9c7099-8df9-4ba7-9614-5c9b25fd1e93",
  "notebookPath": "Untitled.ipynb"
 },
 "nbformat": 4,
 "nbformat_minor": 5
}
